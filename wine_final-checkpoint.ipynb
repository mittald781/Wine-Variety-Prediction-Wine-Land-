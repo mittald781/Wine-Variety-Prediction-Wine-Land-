{
 "cells": [
  {
   "cell_type": "code",
   "execution_count": 2,
   "metadata": {},
   "outputs": [],
   "source": [
    "import pandas as pd\n",
    "import numpy as np"
   ]
  },
  {
   "cell_type": "code",
   "execution_count": 3,
   "metadata": {},
   "outputs": [],
   "source": [
    "data = pd.read_csv(\"train.csv\")\n",
    "data_test = pd.read_csv(\"test.csv\")"
   ]
  },
  {
   "cell_type": "code",
   "execution_count": 4,
   "metadata": {},
   "outputs": [],
   "source": [
    "df = data\n",
    "df2 = data"
   ]
  },
  {
   "cell_type": "code",
   "execution_count": 5,
   "metadata": {},
   "outputs": [],
   "source": [
    "df2 = df2.drop_duplicates(subset=[\"review_title\",\"review_description\"] , keep=\"first\", inplace=False)"
   ]
  },
  {
   "cell_type": "code",
   "execution_count": 7,
   "metadata": {},
   "outputs": [
    {
     "data": {
      "text/html": [
       "<div>\n",
       "<style scoped>\n",
       "    .dataframe tbody tr th:only-of-type {\n",
       "        vertical-align: middle;\n",
       "    }\n",
       "\n",
       "    .dataframe tbody tr th {\n",
       "        vertical-align: top;\n",
       "    }\n",
       "\n",
       "    .dataframe thead th {\n",
       "        text-align: right;\n",
       "    }\n",
       "</style>\n",
       "<table border=\"1\" class=\"dataframe\">\n",
       "  <thead>\n",
       "    <tr style=\"text-align: right;\">\n",
       "      <th></th>\n",
       "      <th>user_name</th>\n",
       "      <th>country</th>\n",
       "      <th>review_title</th>\n",
       "      <th>review_description</th>\n",
       "      <th>designation</th>\n",
       "      <th>points</th>\n",
       "      <th>price</th>\n",
       "      <th>province</th>\n",
       "      <th>region_1</th>\n",
       "      <th>region_2</th>\n",
       "      <th>winery</th>\n",
       "    </tr>\n",
       "  </thead>\n",
       "  <tbody>\n",
       "    <tr>\n",
       "      <th>0</th>\n",
       "      <td>@paulgwine</td>\n",
       "      <td>US</td>\n",
       "      <td>Boedecker Cellars 2011 Athena Pinot Noir (Will...</td>\n",
       "      <td>Nicely differentiated from the companion Stewa...</td>\n",
       "      <td>Athena</td>\n",
       "      <td>88</td>\n",
       "      <td>35.0</td>\n",
       "      <td>Oregon</td>\n",
       "      <td>Willamette Valley</td>\n",
       "      <td>Willamette Valley</td>\n",
       "      <td>Boedecker Cellars</td>\n",
       "    </tr>\n",
       "    <tr>\n",
       "      <th>1</th>\n",
       "      <td>@wineschach</td>\n",
       "      <td>Argentina</td>\n",
       "      <td>Mendoza Vineyards 2012 Gran Reserva by Richard...</td>\n",
       "      <td>Charred, smoky, herbal aromas of blackberry tr...</td>\n",
       "      <td>Gran Reserva by Richard Bonvin</td>\n",
       "      <td>90</td>\n",
       "      <td>60.0</td>\n",
       "      <td>Mendoza Province</td>\n",
       "      <td>Mendoza</td>\n",
       "      <td>NaN</td>\n",
       "      <td>Mendoza Vineyards</td>\n",
       "    </tr>\n",
       "    <tr>\n",
       "      <th>2</th>\n",
       "      <td>@vboone</td>\n",
       "      <td>US</td>\n",
       "      <td>Prime 2013 Chardonnay (Coombsville)</td>\n",
       "      <td>Slightly sour and funky in earth, this is a re...</td>\n",
       "      <td>NaN</td>\n",
       "      <td>87</td>\n",
       "      <td>38.0</td>\n",
       "      <td>California</td>\n",
       "      <td>Coombsville</td>\n",
       "      <td>Napa</td>\n",
       "      <td>Prime</td>\n",
       "    </tr>\n",
       "    <tr>\n",
       "      <th>3</th>\n",
       "      <td>@wineschach</td>\n",
       "      <td>Argentina</td>\n",
       "      <td>Bodega Cuarto Dominio 2012 Chento Vineyard Sel...</td>\n",
       "      <td>This concentrated, midnight-black Malbec deliv...</td>\n",
       "      <td>Chento Vineyard Selection</td>\n",
       "      <td>91</td>\n",
       "      <td>20.0</td>\n",
       "      <td>Mendoza Province</td>\n",
       "      <td>Mendoza</td>\n",
       "      <td>NaN</td>\n",
       "      <td>Bodega Cuarto Dominio</td>\n",
       "    </tr>\n",
       "    <tr>\n",
       "      <th>4</th>\n",
       "      <td>@kerinokeefe</td>\n",
       "      <td>Italy</td>\n",
       "      <td>SassodiSole 2012  Brunello di Montalcino</td>\n",
       "      <td>Earthy aromas suggesting grilled porcini, leat...</td>\n",
       "      <td>NaN</td>\n",
       "      <td>90</td>\n",
       "      <td>49.0</td>\n",
       "      <td>Tuscany</td>\n",
       "      <td>Brunello di Montalcino</td>\n",
       "      <td>NaN</td>\n",
       "      <td>SassodiSole</td>\n",
       "    </tr>\n",
       "  </tbody>\n",
       "</table>\n",
       "</div>"
      ],
      "text/plain": [
       "      user_name    country                                       review_title  \\\n",
       "0   @paulgwine          US  Boedecker Cellars 2011 Athena Pinot Noir (Will...   \n",
       "1   @wineschach  Argentina  Mendoza Vineyards 2012 Gran Reserva by Richard...   \n",
       "2       @vboone         US                Prime 2013 Chardonnay (Coombsville)   \n",
       "3   @wineschach  Argentina  Bodega Cuarto Dominio 2012 Chento Vineyard Sel...   \n",
       "4  @kerinokeefe      Italy           SassodiSole 2012  Brunello di Montalcino   \n",
       "\n",
       "                                  review_description  \\\n",
       "0  Nicely differentiated from the companion Stewa...   \n",
       "1  Charred, smoky, herbal aromas of blackberry tr...   \n",
       "2  Slightly sour and funky in earth, this is a re...   \n",
       "3  This concentrated, midnight-black Malbec deliv...   \n",
       "4  Earthy aromas suggesting grilled porcini, leat...   \n",
       "\n",
       "                      designation  points  price          province  \\\n",
       "0                          Athena      88   35.0            Oregon   \n",
       "1  Gran Reserva by Richard Bonvin      90   60.0  Mendoza Province   \n",
       "2                             NaN      87   38.0        California   \n",
       "3       Chento Vineyard Selection      91   20.0  Mendoza Province   \n",
       "4                             NaN      90   49.0           Tuscany   \n",
       "\n",
       "                 region_1           region_2                 winery  \n",
       "0       Willamette Valley  Willamette Valley      Boedecker Cellars  \n",
       "1                 Mendoza                NaN      Mendoza Vineyards  \n",
       "2             Coombsville               Napa                  Prime  \n",
       "3                 Mendoza                NaN  Bodega Cuarto Dominio  \n",
       "4  Brunello di Montalcino                NaN            SassodiSole  "
      ]
     },
     "execution_count": 7,
     "metadata": {},
     "output_type": "execute_result"
    }
   ],
   "source": [
    "data_test"
   ]
  },
  {
   "cell_type": "code",
   "execution_count": 8,
   "metadata": {},
   "outputs": [
    {
     "name": "stderr",
     "output_type": "stream",
     "text": [
      "C:\\Users\\Aditya\\anaconda3\\lib\\site-packages\\ipykernel_launcher.py:5: SettingWithCopyWarning: \n",
      "A value is trying to be set on a copy of a slice from a DataFrame.\n",
      "Try using .loc[row_indexer,col_indexer] = value instead\n",
      "\n",
      "See the caveats in the documentation: https://pandas.pydata.org/pandas-docs/stable/user_guide/indexing.html#returning-a-view-versus-a-copy\n",
      "  \"\"\"\n"
     ]
    }
   ],
   "source": [
    "# adding new feature column in the data frame\n",
    "review_title_array = df2[\"review_title\"].values\n",
    "review_description_array = df2[\"review_description\"].values \n",
    "title_description  = review_title_array + review_description_array\n",
    "df2[\"title_description\"] = title_description"
   ]
  },
  {
   "cell_type": "code",
   "execution_count": 9,
   "metadata": {},
   "outputs": [],
   "source": [
    "# adding new feature column in the data frame for test data\n",
    "review_title_array = data_test[\"review_title\"].values\n",
    "review_description_array = data_test[\"review_description\"].values \n",
    "title_description  = review_title_array + review_description_array\n",
    "data_test[\"title_description\"] = title_description"
   ]
  },
  {
   "cell_type": "markdown",
   "metadata": {},
   "source": [
    "# removing nan values from country and price column in the data frame"
   ]
  },
  {
   "cell_type": "code",
   "execution_count": 10,
   "metadata": {},
   "outputs": [],
   "source": [
    "# # adding index column to the dataframe(df2)\n",
    "# index = []\n",
    "# i = 0\n",
    "# for i in range(len(df2)):\n",
    "#     index.append(i)\n",
    "#     i = i + 1\n",
    "# df2.insert(loc=0, column='index', value=index)\n",
    "\n",
    "# #checking country count\n",
    "# country_info = df2.groupby(by='country', as_index=False).agg({'index': pd.Series.nunique})\n",
    "# cnt = country_info.max()\n",
    "# # just to have the idea that which country as occured most - US"
   ]
  },
  {
   "cell_type": "code",
   "execution_count": 11,
   "metadata": {},
   "outputs": [
    {
     "data": {
      "text/plain": [
       "array(['Australia', 'US', 'Italy', 'France', 'Argentina', 'New Zealand',\n",
       "       'Austria', 'Chile', 'Portugal', 'Germany', 'Spain', nan, 'Israel',\n",
       "       'England', 'Brazil', 'South Africa', 'Romania', 'Slovenia',\n",
       "       'Greece', 'Canada', 'Turkey', 'Lebanon', 'Mexico', 'Uruguay',\n",
       "       'Bulgaria', 'Hungary', 'Moldova', 'Morocco', 'Georgia', 'Ukraine',\n",
       "       'Croatia', 'Peru', 'Switzerland', 'Luxembourg', 'Cyprus',\n",
       "       'Czech Republic', 'Macedonia', 'Serbia', 'India'], dtype=object)"
      ]
     },
     "execution_count": 11,
     "metadata": {},
     "output_type": "execute_result"
    }
   ],
   "source": [
    "df2.country.unique()"
   ]
  },
  {
   "cell_type": "code",
   "execution_count": 12,
   "metadata": {},
   "outputs": [
    {
     "name": "stderr",
     "output_type": "stream",
     "text": [
      "C:\\Users\\Aditya\\anaconda3\\lib\\site-packages\\pandas\\core\\generic.py:6245: SettingWithCopyWarning: \n",
      "A value is trying to be set on a copy of a slice from a DataFrame\n",
      "\n",
      "See the caveats in the documentation: https://pandas.pydata.org/pandas-docs/stable/user_guide/indexing.html#returning-a-view-versus-a-copy\n",
      "  self._update_inplace(new_data)\n"
     ]
    }
   ],
   "source": [
    "# Replacing nan values in country col to US in train and test datsets\n",
    "df2[\"country\"].fillna(\"US\", inplace = True) \n",
    "data_test[\"country\"].fillna(\"US\", inplace = True)"
   ]
  },
  {
   "cell_type": "code",
   "execution_count": 13,
   "metadata": {},
   "outputs": [],
   "source": [
    "# Filling nan values for price in train & test data\n",
    "df2[\"price\"].fillna(df2.price.mean(), inplace = True) \n",
    "data_test[\"price\"].fillna(df2.price.mean(), inplace = True)"
   ]
  },
  {
   "cell_type": "code",
   "execution_count": 14,
   "metadata": {},
   "outputs": [
    {
     "name": "stdout",
     "output_type": "stream",
     "text": [
      "{'Australia': 0, 'US': 1, 'Italy': 2, 'France': 3, 'Argentina': 4, 'New Zealand': 5, 'Austria': 6, 'Chile': 7, 'Portugal': 8, 'Germany': 9, 'Spain': 10, 'Israel': 11, 'England': 12, 'Brazil': 13, 'South Africa': 14, 'Romania': 15, 'Slovenia': 16, 'Greece': 17, 'Canada': 18, 'Turkey': 19, 'Lebanon': 20, 'Mexico': 21, 'Uruguay': 22, 'Bulgaria': 23, 'Hungary': 24, 'Moldova': 25, 'Morocco': 26, 'Georgia': 27, 'Ukraine': 28, 'Croatia': 29, 'Peru': 30, 'Switzerland': 31, 'Luxembourg': 32, 'Cyprus': 33, 'Czech Republic': 34, 'Macedonia': 35, 'Serbia': 36, 'India': 37}\n"
     ]
    }
   ],
   "source": [
    "# forming dict for country\n",
    "temp1 = df2.country.unique()\n",
    "# temp1 = list(temp1)\n",
    "dict1 = {}\n",
    "i = 0\n",
    "for i in range(len(temp1)):\n",
    "    dict1[temp1[i]] = i\n",
    "print(dict1)"
   ]
  },
  {
   "cell_type": "code",
   "execution_count": 15,
   "metadata": {},
   "outputs": [
    {
     "data": {
      "text/plain": [
       "0"
      ]
     },
     "execution_count": 15,
     "metadata": {},
     "output_type": "execute_result"
    }
   ],
   "source": [
    "dict1['Australia']"
   ]
  },
  {
   "cell_type": "code",
   "execution_count": 16,
   "metadata": {},
   "outputs": [
    {
     "name": "stdout",
     "output_type": "stream",
     "text": [
      "{'Chardonnay': 0, 'Red Blend': 1, 'Nebbiolo': 2, 'Bordeaux-style White Blend': 3, 'Malbec': 4, 'Cabernet Sauvignon': 5, 'Zinfandel': 6, 'Pinot Noir': 7, 'Sauvignon Blanc': 8, 'Gamay': 9, 'Grüner Veltliner': 10, 'Bordeaux-style Red Blend': 11, 'Sangiovese': 12, 'Syrah': 13, 'White Blend': 14, 'Cabernet Franc': 15, 'Portuguese Red': 16, 'Portuguese White': 17, 'Rhône-style Red Blend': 18, 'Rosé': 19, 'Champagne Blend': 20, 'Merlot': 21, 'Riesling': 22, 'Sparkling Blend': 23, 'Pinot Grigio': 24, 'Tempranillo': 25, 'Pinot Gris': 26, 'Gewürztraminer': 27}\n"
     ]
    }
   ],
   "source": [
    "# forming dict for variety\n",
    "temp2 = df2.variety.unique()\n",
    "# temp2 = list(temp2)\n",
    "dict2 = {}\n",
    "i = 0\n",
    "for i in range(len(temp2)):\n",
    "    dict2[temp2[i]] = i\n",
    "print(dict2)"
   ]
  },
  {
   "cell_type": "code",
   "execution_count": 17,
   "metadata": {},
   "outputs": [
    {
     "data": {
      "text/plain": [
       "'Australia'"
      ]
     },
     "execution_count": 17,
     "metadata": {},
     "output_type": "execute_result"
    }
   ],
   "source": [
    "df2[\"country\"][0]"
   ]
  },
  {
   "cell_type": "code",
   "execution_count": 18,
   "metadata": {},
   "outputs": [
    {
     "data": {
      "text/plain": [
       "0"
      ]
     },
     "execution_count": 18,
     "metadata": {},
     "output_type": "execute_result"
    }
   ],
   "source": [
    "dict1[df2[\"country\"][0]]"
   ]
  },
  {
   "cell_type": "code",
   "execution_count": 19,
   "metadata": {},
   "outputs": [],
   "source": [
    "# # Converting the texts of country col to values in train and test dataframes\n",
    "# # Train data\n",
    "# for i in range(len(df2)):\n",
    "#     df2[\"country\"][i] = dict1[df2[\"country\"][i]]"
   ]
  },
  {
   "cell_type": "code",
   "execution_count": 20,
   "metadata": {},
   "outputs": [],
   "source": [
    "# # Test data\n",
    "# for i in range(len(data_test)):\n",
    "#     data_test[\"country\"][i] = dict1[data_test[\"country\"][i]]"
   ]
  },
  {
   "cell_type": "code",
   "execution_count": null,
   "metadata": {},
   "outputs": [],
   "source": []
  },
  {
   "cell_type": "code",
   "execution_count": 21,
   "metadata": {},
   "outputs": [],
   "source": [
    "# Converting columns to list\n",
    "t_d_list = df2[\"title_description\"].values\n",
    "points = df2[\"points\"].values\n",
    "variety = df2[\"variety\"].values\n",
    "country = df2[\"country\"].values\n",
    "price = df2[\"price\"].values"
   ]
  },
  {
   "cell_type": "code",
   "execution_count": 22,
   "metadata": {},
   "outputs": [],
   "source": [
    "# Converting columns to list for test data\n",
    "t_d_list_test = data_test[\"title_description\"].values\n",
    "points_test = data_test[\"points\"].values\n",
    "price_test = data_test[\"price\"].values\n",
    "country_test = data_test[\"country\"].values"
   ]
  },
  {
   "cell_type": "code",
   "execution_count": 23,
   "metadata": {},
   "outputs": [],
   "source": [
    "from nltk.corpus import stopwords\n",
    "from sklearn.feature_extraction.text import CountVectorizer\n",
    "from nltk import word_tokenize,sent_tokenize\n",
    "import string\n",
    "import re\n",
    "from nltk.stem import WordNetLemmatizer\n",
    "from nltk.tokenize import RegexpTokenizer\n",
    "lemmatizer = WordNetLemmatizer()"
   ]
  },
  {
   "cell_type": "code",
   "execution_count": 24,
   "metadata": {},
   "outputs": [],
   "source": [
    "def clean_text(text):\n",
    "\n",
    "#     text = text.lower()\n",
    "\n",
    "    tokenizer = RegexpTokenizer(r'[\\w]+')\n",
    "    text = tokenizer.tokenize(text)\n",
    "\n",
    "    text = [lemmatizer.lemmatize(word) for word in text if not word in set(stopwords.words('english'))]\n",
    "    text = ' '.join(text)\n",
    "    return text"
   ]
  },
  {
   "cell_type": "code",
   "execution_count": 25,
   "metadata": {},
   "outputs": [],
   "source": [
    "c = []\n",
    "for t in t_d_list:\n",
    "    c.append(clean_text(t))"
   ]
  },
  {
   "cell_type": "code",
   "execution_count": 26,
   "metadata": {},
   "outputs": [],
   "source": [
    "c_test = []\n",
    "for t in t_d_list_test:\n",
    "    c_test.append(clean_text(t))"
   ]
  },
  {
   "cell_type": "code",
   "execution_count": 27,
   "metadata": {},
   "outputs": [],
   "source": [
    "# c_df = pd.DataFrame(c)\n",
    "# c_test_df = pd.DataFrame(c_test)"
   ]
  },
  {
   "cell_type": "code",
   "execution_count": 28,
   "metadata": {},
   "outputs": [],
   "source": [
    "# c_df.to_csv(\"c.csv\")\n",
    "# c_test_df.to_csv(\"c_test.csv\")"
   ]
  },
  {
   "cell_type": "code",
   "execution_count": 29,
   "metadata": {},
   "outputs": [],
   "source": [
    "# c = pd.read_csv(\"c.csv\")\n",
    "# c_test = pd.read_csv(\"c_test.csv\")"
   ]
  },
  {
   "cell_type": "code",
   "execution_count": 30,
   "metadata": {},
   "outputs": [],
   "source": [
    "# #converting corpus of test and train to list\n",
    "# c = list(c.iloc[:,1])\n",
    "# c_test = list(c_test.iloc[:,1])"
   ]
  },
  {
   "cell_type": "code",
   "execution_count": 31,
   "metadata": {},
   "outputs": [
    {
     "data": {
      "text/html": [
       "<div>\n",
       "<style scoped>\n",
       "    .dataframe tbody tr th:only-of-type {\n",
       "        vertical-align: middle;\n",
       "    }\n",
       "\n",
       "    .dataframe tbody tr th {\n",
       "        vertical-align: top;\n",
       "    }\n",
       "\n",
       "    .dataframe thead th {\n",
       "        text-align: right;\n",
       "    }\n",
       "</style>\n",
       "<table border=\"1\" class=\"dataframe\">\n",
       "  <thead>\n",
       "    <tr style=\"text-align: right;\">\n",
       "      <th></th>\n",
       "      <th>user_name</th>\n",
       "      <th>country</th>\n",
       "      <th>review_title</th>\n",
       "      <th>review_description</th>\n",
       "      <th>designation</th>\n",
       "      <th>points</th>\n",
       "      <th>price</th>\n",
       "      <th>province</th>\n",
       "      <th>region_1</th>\n",
       "      <th>region_2</th>\n",
       "      <th>winery</th>\n",
       "      <th>variety</th>\n",
       "      <th>title_description</th>\n",
       "    </tr>\n",
       "  </thead>\n",
       "  <tbody>\n",
       "    <tr>\n",
       "      <th>0</th>\n",
       "      <td>NaN</td>\n",
       "      <td>Australia</td>\n",
       "      <td>Andrew Peace 2007 Peace Family Vineyard Chardo...</td>\n",
       "      <td>Classic Chardonnay aromas of apple, pear and h...</td>\n",
       "      <td>Peace Family Vineyard</td>\n",
       "      <td>83</td>\n",
       "      <td>10.0</td>\n",
       "      <td>Australia Other</td>\n",
       "      <td>South Eastern Australia</td>\n",
       "      <td>NaN</td>\n",
       "      <td>Andrew Peace</td>\n",
       "      <td>Chardonnay</td>\n",
       "      <td>Andrew Peace 2007 Peace Family Vineyard Chardo...</td>\n",
       "    </tr>\n",
       "    <tr>\n",
       "      <th>1</th>\n",
       "      <td>@wawinereport</td>\n",
       "      <td>US</td>\n",
       "      <td>North by Northwest 2014 Red (Columbia Valley (...</td>\n",
       "      <td>This wine is near equal parts Syrah and Merlot...</td>\n",
       "      <td>NaN</td>\n",
       "      <td>89</td>\n",
       "      <td>15.0</td>\n",
       "      <td>Washington</td>\n",
       "      <td>Columbia Valley (WA)</td>\n",
       "      <td>Columbia Valley</td>\n",
       "      <td>North by Northwest</td>\n",
       "      <td>Red Blend</td>\n",
       "      <td>North by Northwest 2014 Red (Columbia Valley (...</td>\n",
       "    </tr>\n",
       "    <tr>\n",
       "      <th>2</th>\n",
       "      <td>NaN</td>\n",
       "      <td>Italy</td>\n",
       "      <td>Renato Ratti 2007 Conca  (Barolo)</td>\n",
       "      <td>Barolo Conca opens with inky dark concentratio...</td>\n",
       "      <td>Conca</td>\n",
       "      <td>94</td>\n",
       "      <td>80.0</td>\n",
       "      <td>Piedmont</td>\n",
       "      <td>Barolo</td>\n",
       "      <td>NaN</td>\n",
       "      <td>Renato Ratti</td>\n",
       "      <td>Nebbiolo</td>\n",
       "      <td>Renato Ratti 2007 Conca  (Barolo)Barolo Conca ...</td>\n",
       "    </tr>\n",
       "    <tr>\n",
       "      <th>3</th>\n",
       "      <td>@vossroger</td>\n",
       "      <td>France</td>\n",
       "      <td>Domaine l'Ancienne Cure 2010 L'Abbaye White (B...</td>\n",
       "      <td>It's impressive what a small addition of Sauvi...</td>\n",
       "      <td>L'Abbaye</td>\n",
       "      <td>87</td>\n",
       "      <td>22.0</td>\n",
       "      <td>Southwest France</td>\n",
       "      <td>Bergerac Sec</td>\n",
       "      <td>NaN</td>\n",
       "      <td>Domaine l'Ancienne Cure</td>\n",
       "      <td>Bordeaux-style White Blend</td>\n",
       "      <td>Domaine l'Ancienne Cure 2010 L'Abbaye White (B...</td>\n",
       "    </tr>\n",
       "    <tr>\n",
       "      <th>4</th>\n",
       "      <td>@vossroger</td>\n",
       "      <td>France</td>\n",
       "      <td>Château du Cèdre 2012 Le Cèdre Vintage Malbec ...</td>\n",
       "      <td>This ripe, sweet wine is rich and full of drie...</td>\n",
       "      <td>Le Cèdre Vintage</td>\n",
       "      <td>88</td>\n",
       "      <td>33.0</td>\n",
       "      <td>France Other</td>\n",
       "      <td>Vin de Liqueur</td>\n",
       "      <td>NaN</td>\n",
       "      <td>Château du Cèdre</td>\n",
       "      <td>Malbec</td>\n",
       "      <td>Château du Cèdre 2012 Le Cèdre Vintage Malbec ...</td>\n",
       "    </tr>\n",
       "  </tbody>\n",
       "</table>\n",
       "</div>"
      ],
      "text/plain": [
       "       user_name    country  \\\n",
       "0            NaN  Australia   \n",
       "1  @wawinereport         US   \n",
       "2            NaN      Italy   \n",
       "3     @vossroger     France   \n",
       "4     @vossroger     France   \n",
       "\n",
       "                                        review_title  \\\n",
       "0  Andrew Peace 2007 Peace Family Vineyard Chardo...   \n",
       "1  North by Northwest 2014 Red (Columbia Valley (...   \n",
       "2                  Renato Ratti 2007 Conca  (Barolo)   \n",
       "3  Domaine l'Ancienne Cure 2010 L'Abbaye White (B...   \n",
       "4  Château du Cèdre 2012 Le Cèdre Vintage Malbec ...   \n",
       "\n",
       "                                  review_description            designation  \\\n",
       "0  Classic Chardonnay aromas of apple, pear and h...  Peace Family Vineyard   \n",
       "1  This wine is near equal parts Syrah and Merlot...                    NaN   \n",
       "2  Barolo Conca opens with inky dark concentratio...                  Conca   \n",
       "3  It's impressive what a small addition of Sauvi...               L'Abbaye   \n",
       "4  This ripe, sweet wine is rich and full of drie...       Le Cèdre Vintage   \n",
       "\n",
       "   points  price          province                 region_1         region_2  \\\n",
       "0      83   10.0   Australia Other  South Eastern Australia              NaN   \n",
       "1      89   15.0        Washington     Columbia Valley (WA)  Columbia Valley   \n",
       "2      94   80.0          Piedmont                   Barolo              NaN   \n",
       "3      87   22.0  Southwest France             Bergerac Sec              NaN   \n",
       "4      88   33.0      France Other           Vin de Liqueur              NaN   \n",
       "\n",
       "                    winery                     variety  \\\n",
       "0             Andrew Peace                  Chardonnay   \n",
       "1       North by Northwest                   Red Blend   \n",
       "2             Renato Ratti                    Nebbiolo   \n",
       "3  Domaine l'Ancienne Cure  Bordeaux-style White Blend   \n",
       "4         Château du Cèdre                      Malbec   \n",
       "\n",
       "                                   title_description  \n",
       "0  Andrew Peace 2007 Peace Family Vineyard Chardo...  \n",
       "1  North by Northwest 2014 Red (Columbia Valley (...  \n",
       "2  Renato Ratti 2007 Conca  (Barolo)Barolo Conca ...  \n",
       "3  Domaine l'Ancienne Cure 2010 L'Abbaye White (B...  \n",
       "4  Château du Cèdre 2012 Le Cèdre Vintage Malbec ...  "
      ]
     },
     "execution_count": 31,
     "metadata": {},
     "output_type": "execute_result"
    }
   ],
   "source": [
    "df2.head()"
   ]
  },
  {
   "cell_type": "code",
   "execution_count": 32,
   "metadata": {},
   "outputs": [],
   "source": [
    "# for i in range(len(df2)):\n",
    "#     if df2[\"country\"][i]"
   ]
  },
  {
   "cell_type": "code",
   "execution_count": 33,
   "metadata": {},
   "outputs": [
    {
     "data": {
      "text/plain": [
       "20665"
      ]
     },
     "execution_count": 33,
     "metadata": {},
     "output_type": "execute_result"
    }
   ],
   "source": [
    "len(country_test)"
   ]
  },
  {
   "cell_type": "code",
   "execution_count": 34,
   "metadata": {},
   "outputs": [],
   "source": [
    "for i in range(len(country_test)):\n",
    "    t = country_test[i]\n",
    "    try:\n",
    "        b = temp1.index(t)\n",
    "    except:\n",
    "        country_test[i] = 'US'"
   ]
  },
  {
   "cell_type": "code",
   "execution_count": 35,
   "metadata": {},
   "outputs": [],
   "source": [
    "# Making a list of all variety values for train data\n",
    "variety_val = np.zeros(len(variety))\n",
    "variety_val = variety_val\n",
    "\n",
    "for i in range(len(variety)):\n",
    "  variety_val[i] = dict2[variety[i]]"
   ]
  },
  {
   "cell_type": "code",
   "execution_count": 36,
   "metadata": {},
   "outputs": [],
   "source": [
    "# Making a list of all country values for train data and test data\n",
    "country_val = np.zeros(len(country))\n",
    "country_val = country_val\n",
    "\n",
    "for i in range(len(country)):\n",
    "  country_val[i] = dict1[country[i]] \n",
    "\n",
    "# for test data\n",
    "\n",
    "country_test_val = np.zeros(len(country_test))\n",
    "country_test_val = country_test_val\n",
    "\n",
    "for i in range(len(country_test)):\n",
    "    country_test_val[i] = dict1[country_test[i]]"
   ]
  },
  {
   "cell_type": "code",
   "execution_count": 37,
   "metadata": {},
   "outputs": [],
   "source": [
    "from sklearn.feature_extraction.text import CountVectorizer"
   ]
  },
  {
   "cell_type": "code",
   "execution_count": 38,
   "metadata": {},
   "outputs": [],
   "source": [
    "cv = CountVectorizer()"
   ]
  },
  {
   "cell_type": "code",
   "execution_count": 39,
   "metadata": {},
   "outputs": [],
   "source": [
    "c_vector = cv.fit_transform(c)\n",
    "c_test_vector = cv.transform(c_test)"
   ]
  },
  {
   "cell_type": "code",
   "execution_count": 40,
   "metadata": {},
   "outputs": [],
   "source": [
    "# c_vector_df = pd.DataFrame(c_vector)\n",
    "# c_test_vector_df = pd.DataFrame(c_test_vector)"
   ]
  },
  {
   "cell_type": "code",
   "execution_count": 41,
   "metadata": {},
   "outputs": [
    {
     "data": {
      "text/plain": [
       "(20665, 44792)"
      ]
     },
     "execution_count": 41,
     "metadata": {},
     "output_type": "execute_result"
    }
   ],
   "source": [
    "c_test_vector.shape"
   ]
  },
  {
   "cell_type": "code",
   "execution_count": 42,
   "metadata": {},
   "outputs": [],
   "source": [
    "# import scipy.sparse\n",
    "# X_train = pd.DataFrame.sparse.from_spmatrix(c_vector)\n",
    "# X_test = pd.DataFrame.sparse.from_spmatrix(c_test_vector)"
   ]
  },
  {
   "cell_type": "code",
   "execution_count": 43,
   "metadata": {},
   "outputs": [],
   "source": [
    "# print(X_train.shape)\n",
    "# print(X_test.shape)"
   ]
  },
  {
   "cell_type": "code",
   "execution_count": 44,
   "metadata": {},
   "outputs": [],
   "source": [
    "# points_df = pd.DataFrame(points)\n",
    "# price_df = pd.DataFrame(price)\n",
    "# country_val_df = pd.DataFrame(country_val)\n",
    "\n",
    "# points_test_df = pd.DataFrame(points_test)\n",
    "# price_test_df = pd.DataFrame(price_test)\n",
    "# country_test_val_df = pd.DataFrame(country_test_val)"
   ]
  },
  {
   "cell_type": "code",
   "execution_count": 45,
   "metadata": {},
   "outputs": [],
   "source": [
    "# print(points_test_df.shape)\n",
    "# print(price_test_df.shape)\n",
    "# print(country_test_val_df.shape)"
   ]
  },
  {
   "cell_type": "code",
   "execution_count": 46,
   "metadata": {},
   "outputs": [],
   "source": [
    "# X_test"
   ]
  },
  {
   "cell_type": "code",
   "execution_count": 47,
   "metadata": {},
   "outputs": [],
   "source": [
    "# dataframe concat\n",
    "# X_train_final = pd.concat([c_vector_df, points_df, price_df, country_val_df], axis=1)\n",
    "# X_test_final = pd.concat([c_test_vector_df, points_test_df, price_test_df, country_test_val_df], axis=1)"
   ]
  },
  {
   "cell_type": "code",
   "execution_count": 48,
   "metadata": {},
   "outputs": [],
   "source": [
    "# X_test_final = np.array(X_test_final)"
   ]
  },
  {
   "cell_type": "code",
   "execution_count": 49,
   "metadata": {},
   "outputs": [],
   "source": [
    "# X_train_final = np.array(X_train_final)"
   ]
  },
  {
   "cell_type": "code",
   "execution_count": 50,
   "metadata": {},
   "outputs": [
    {
     "name": "stdout",
     "output_type": "stream",
     "text": [
      "(77641, 44792) (77641,) (77641,) (77641,)\n",
      "(20665, 44792) (20665,) (20665,) (20665,)\n"
     ]
    }
   ],
   "source": [
    "print(c_vector.shape, points.shape, price.shape,country_val.shape)\n",
    "print(c_test_vector.shape, points_test.shape, points_test.shape, country_test_val.shape)"
   ]
  },
  {
   "cell_type": "code",
   "execution_count": 51,
   "metadata": {},
   "outputs": [],
   "source": [
    " #           reshaping\n",
    "points = np.reshape(points,(len(df2),1))\n",
    "price = np.reshape(price,(len(df2),1))\n",
    "country_val = np.reshape(country_val,(len(df2),1))\n",
    "\n",
    "\n",
    "points_test = np.reshape(points_test,(len(data_test),1))\n",
    "price_test = np.reshape(price_test,(len(data_test),1))\n",
    "country_test_val = np.reshape(country_test_val,(len(data_test),1))\n",
    "\n",
    "\n",
    "#---> facing reshaping issue"
   ]
  },
  {
   "cell_type": "code",
   "execution_count": 52,
   "metadata": {},
   "outputs": [
    {
     "name": "stdout",
     "output_type": "stream",
     "text": [
      "(77641, 44792) (77641, 1) (77641, 1) (77641, 1)\n",
      "(20665, 44792) (20665, 1) (20665, 1) (20665, 1)\n"
     ]
    }
   ],
   "source": [
    "print(c_vector.shape, points.shape, price.shape,country_val.shape)\n",
    "print(c_test_vector.shape, points_test.shape, points_test.shape, country_test_val.shape)"
   ]
  },
  {
   "cell_type": "code",
   "execution_count": 53,
   "metadata": {},
   "outputs": [
    {
     "data": {
      "text/plain": [
       "numpy.ndarray"
      ]
     },
     "execution_count": 53,
     "metadata": {},
     "output_type": "execute_result"
    }
   ],
   "source": [
    "type(points)"
   ]
  },
  {
   "cell_type": "code",
   "execution_count": 54,
   "metadata": {},
   "outputs": [],
   "source": [
    "# # numpy array concat\n",
    "# X_train_final = np.hstack((c_vector, points, price, country_val))\n",
    "# X_test_final = np.hstack((c_test_vector, points_test, price_test, country_test_val))"
   ]
  },
  {
   "cell_type": "code",
   "execution_count": 55,
   "metadata": {},
   "outputs": [],
   "source": [
    "# SPARSE METHOD (concatenating in sparse matrix)\n",
    "\n",
    "import scipy.sparse\n",
    "# for train\n",
    "points_ = scipy.sparse.csr_matrix(points)\n",
    "price_ = scipy.sparse.csr_matrix(price)\n",
    "country_val_ = scipy.sparse.csr_matrix(country_val)\n",
    "\n",
    "# for test\n",
    "points_test_ = scipy.sparse.csr_matrix(points_test)\n",
    "price_test_ = scipy.sparse.csr_matrix(price_test)\n",
    "country_test_val_ = scipy.sparse.csr_matrix(country_test_val)\n",
    "\n",
    "X_train_final_sparse = scipy.sparse.hstack((c_vector, points_, price_, country_val_))\n",
    "X_test_final_sparse = scipy.sparse.hstack((c_test_vector, points_test_, price_test_, country_test_val_))"
   ]
  },
  {
   "cell_type": "code",
   "execution_count": 56,
   "metadata": {},
   "outputs": [
    {
     "name": "stdout",
     "output_type": "stream",
     "text": [
      "(77641, 44795)\n"
     ]
    }
   ],
   "source": [
    "print(X_train_final_sparse.shape)"
   ]
  },
  {
   "cell_type": "code",
   "execution_count": 57,
   "metadata": {},
   "outputs": [],
   "source": [
    "# import scipy.sparse\n",
    "# X_train_final_sparse = scipy.sparse.csr_matrix(X_train_final.values)\n",
    "# X_test_final_sparse = scipy.sparse.csr_matrix(X_test_final.values)"
   ]
  },
  {
   "cell_type": "markdown",
   "metadata": {},
   "source": [
    "X_train: c_vector + points + price + country_val\n",
    "X_test : c_test_vector + points_test + price_test + country_test_val\n",
    "Y_train : variety\n",
    "Y_test : to predict"
   ]
  },
  {
   "cell_type": "code",
   "execution_count": 58,
   "metadata": {},
   "outputs": [
    {
     "name": "stdout",
     "output_type": "stream",
     "text": [
      "[0.72078048 0.72217929 0.72172849 0.72037609 0.72346728]\n"
     ]
    },
    {
     "data": {
      "text/plain": [
       "MultinomialNB(alpha=1.0, class_prior=None, fit_prior=True)"
      ]
     },
     "execution_count": 58,
     "metadata": {},
     "output_type": "execute_result"
    }
   ],
   "source": [
    "from sklearn.naive_bayes import MultinomialNB\n",
    "from sklearn.model_selection import cross_val_score, cross_val_predict\n",
    "classifier = MultinomialNB()\n",
    "print(cross_val_score(classifier, X_train_final_sparse,variety_val, cv=5, scoring='accuracy'))\n",
    "classifier.fit(X_train_final_sparse,variety_val)"
   ]
  },
  {
   "cell_type": "code",
   "execution_count": 59,
   "metadata": {},
   "outputs": [
    {
     "data": {
      "text/plain": [
       "0.7907935240401335"
      ]
     },
     "execution_count": 59,
     "metadata": {},
     "output_type": "execute_result"
    }
   ],
   "source": [
    "classifier.score(X_train_final_sparse,variety_val)"
   ]
  },
  {
   "cell_type": "code",
   "execution_count": 60,
   "metadata": {},
   "outputs": [],
   "source": [
    "y_pred = classifier.predict(X_test_final_sparse)"
   ]
  },
  {
   "cell_type": "code",
   "execution_count": 61,
   "metadata": {},
   "outputs": [],
   "source": [
    "y_pred = y_pred.astype(int)"
   ]
  },
  {
   "cell_type": "code",
   "execution_count": 67,
   "metadata": {},
   "outputs": [
    {
     "data": {
      "text/plain": [
       "array([ 7,  4,  0, ...,  5, 25,  5])"
      ]
     },
     "execution_count": 67,
     "metadata": {},
     "output_type": "execute_result"
    }
   ],
   "source": [
    "y_pred"
   ]
  },
  {
   "cell_type": "code",
   "execution_count": 62,
   "metadata": {},
   "outputs": [],
   "source": [
    "y_pred_variety = np.zeros((len(y_pred),1))"
   ]
  },
  {
   "cell_type": "code",
   "execution_count": 63,
   "metadata": {},
   "outputs": [],
   "source": [
    "y_pred_variety = y_pred_variety.astype('str')"
   ]
  },
  {
   "cell_type": "code",
   "execution_count": 64,
   "metadata": {},
   "outputs": [],
   "source": [
    "#inverting dictionary & converting variety valyes to varities for y_pred\n",
    "\n",
    "reversed_dictionary = {value : key for (key, value) in dict2.items()}\n",
    "\n",
    "for i in range(len(y_pred)):\n",
    "    y_pred_variety[i] = reversed_dictionary[y_pred[i]]"
   ]
  },
  {
   "cell_type": "code",
   "execution_count": 68,
   "metadata": {},
   "outputs": [],
   "source": [
    "y_pred_variety_df = pd.DataFrame(y_pred_variety)"
   ]
  },
  {
   "cell_type": "code",
   "execution_count": 82,
   "metadata": {},
   "outputs": [],
   "source": [
    "q = y_pred_variety_df.loc[:,0].unique()"
   ]
  },
  {
   "cell_type": "code",
   "execution_count": 83,
   "metadata": {},
   "outputs": [
    {
     "data": {
      "text/plain": [
       "28"
      ]
     },
     "execution_count": 83,
     "metadata": {},
     "output_type": "execute_result"
    }
   ],
   "source": [
    "len(q)"
   ]
  },
  {
   "cell_type": "code",
   "execution_count": null,
   "metadata": {},
   "outputs": [],
   "source": [
    "# Importing the libraries\n",
    "import numpy as np\n",
    "import matplotlib.pyplot as plt\n",
    "import pandas as pd\n",
    "from sklearn.metrics import mean_squared_error,r2_score\n",
    "from sklearn.model_selection import KFold\n",
    "from sklearn.model_selection import cross_val_score, cross_val_predict\n",
    "from sklearn import metrics\n",
    "from sklearn.model_selection import train_test_split\n",
    "# Multiple Linear Regression\n",
    "def reading(text1):\n",
    "\tdataset = pd.read_csv(text1)\n",
    "\ta = dataset.iloc[:, :-1].values\n",
    "\tb = dataset.iloc[:,10].values\n",
    "\treturn a,b\n",
    "def splitting(X,y):\n",
    "\ta_train, b_test, c_train, d_test = train_test_split(X, y, test_size = 0.2, random_state = 0)\t\t\n",
    "\treturn a_train,b_test,c_train,d_test\n",
    "def scaling(c):\n",
    "\tfrom sklearn.preprocessing import StandardScaler\n",
    "\tsc = StandardScaler()\n",
    "\tc = sc.fit_transform(c)\n",
    "\treturn c\n",
    "def model(regressor,X_train, X_test, y_train, y_test,X,y):\n",
    "\tprint(regressor)\n",
    "\tkfold = KFold(n_splits=3, shuffle=True, random_state=42)\n",
    "\tfrom sklearn.metrics import classification_report\n",
    "\tfor i,j in kfold.split(X,y):\n",
    "\t\tX[i]=scaling(X[i])\n",
    "\t\tX[j]=scaling(X[j])\n",
    "\t\tregressor.fit(X[i],y[i])\n",
    "\t\ty_pred = regressor.predict(X[j])\n",
    "\t\t# score(regressor,y[j],y_pred,R2_Score,RMSE)\n",
    "\t\tprint(classification_report(y[j],y_pred))\n",
    "\t# print(sum(R2_Score)/len(R2_Score))\n",
    "\t# print(sum(RMSE)/len(RMSE))\n",
    "def score(regressor,a,y_pred,R2_Score,RMSE):\t\t\n",
    "\tR2_Score.append(r2_score(a,y_pred))\n",
    "\tRMSE.append((np.sqrt(mean_squared_error(a,y_pred))))\n",
    "def logic(X,y,X_train, X_test, y_train, y_test):\n",
    "\tfrom sklearn.linear_model import LogisticRegression\n",
    "\tregressor = LogisticRegression()\n",
    "\tmodel(regressor,X_train, X_test, y_train, y_test,X,y)\n",
    "def decision(X,y,X_train, X_test, y_train, y_test):\n",
    "\tfrom sklearn.tree import DecisionTreeClassifier\n",
    "\tregressor = DecisionTreeClassifier(criterion = 'entropy', random_state = 0)\n",
    "\tmodel(regressor,X_train, X_test, y_train, y_test,X,y)\t\t\n",
    "def knn(X,y,X_train, X_test, y_train, y_test):\n",
    "\tfrom sklearn.neighbors import KNeighborsClassifier\n",
    "\tregressor = KNeighborsClassifier(n_neighbors = 5, metric = 'minkowski', p = 2)\n",
    "\tmodel(regressor,X_train, X_test, y_train, y_test,X,y)\t\t\n",
    "def svm_kernel(X,y,X_train, X_test, y_train, y_test):\n",
    "\tfrom sklearn.svm import SVC\n",
    "\tregressor = SVC(kernel = 'rbf', random_state = 0)\n",
    "\tmodel(regressor,X_train, X_test, y_train, y_test,X,y)\t\t\n",
    "def naive(X,y,X_train, X_test, y_train, y_test):\n",
    "\tfrom sklearn.naive_bayes import GaussianNB\n",
    "\tregressor = GaussianNB()\n",
    "\tmodel(regressor,X_train, X_test, y_train, y_test,X,y)\t\t\n",
    "def svm(X,y,X_train, X_test, y_train, y_test):\n",
    "\tfrom sklearn.svm import SVC\n",
    "\tregressor = SVC(kernel = 'linear', random_state = 0)\n",
    "\tmodel(regressor,X_train, X_test, y_train, y_test,X,y)\t\t\n",
    "def random(X,y,X_train, X_test, y_train, y_test):\n",
    "\tfrom sklearn.ensemble import RandomForestClassifier\n",
    "\tregressor = RandomForestClassifier(n_estimators = 10, criterion = 'entropy', random_state = 0)\n",
    "\tmodel(regressor,X_train, X_test, y_train, y_test,X,y)\t\n",
    "def main(text1):\n",
    "\tX,y=reading(text1)\n",
    "\tX_train, X_test, y_train, y_test=splitting(X,y)\n",
    "\tlogic(X,y,X_train, X_test, y_train, y_test)\n",
    "\tdecision(X,y,X_train, X_test, y_train, y_test)\n",
    "\tknn(X,y,X_train, X_test, y_train, y_test)\n",
    "\tsvm_kernel(X,y,X_train, X_test, y_train, y_test)\n",
    "\tnaive(X,y,X_train, X_test, y_train, y_test)\n",
    "\trandom(X,y,X_train, X_test, y_train, y_test)\n",
    "\tsvm(X,y,X_train, X_test, y_train, y_test)\t\n",
    "\t# boost(X,y,X_train, X_test, y_train, y_test)\n",
    "#Reading CSV\n",
    "text1='glass.csv'\n",
    "main(text1)"
   ]
  }
 ],
 "metadata": {
  "kernelspec": {
   "display_name": "Python 3",
   "language": "python",
   "name": "python3"
  },
  "language_info": {
   "codemirror_mode": {
    "name": "ipython",
    "version": 3
   },
   "file_extension": ".py",
   "mimetype": "text/x-python",
   "name": "python",
   "nbconvert_exporter": "python",
   "pygments_lexer": "ipython3",
   "version": "3.7.6"
  }
 },
 "nbformat": 4,
 "nbformat_minor": 4
}
